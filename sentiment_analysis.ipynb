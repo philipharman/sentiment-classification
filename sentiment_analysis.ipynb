{
 "cells": [
  {
   "cell_type": "markdown",
   "metadata": {},
   "source": [
    "# Movie Review Sentiment Prediction"
   ]
  },
  {
   "cell_type": "markdown",
   "metadata": {},
   "source": [
    "### Imports & Path Definitions\n",
    "\n",
    "Data can be downloaded from: https://www.dropbox.com/s/6a4c3p7v4pkwtq0/Advanced_Data_Analysis_Assignment.tar?dl=0"
   ]
  },
  {
   "cell_type": "code",
   "execution_count": 1,
   "metadata": {},
   "outputs": [
    {
     "data": {
      "text/plain": [
       "'3.0.6'"
      ]
     },
     "execution_count": 1,
     "metadata": {},
     "output_type": "execute_result"
    }
   ],
   "source": [
    "# Imports\n",
    "import spacy\n",
    "from os import listdir\n",
    "import pandas as pd\n",
    "from bs4 import BeautifulSoup\n",
    "import random\n",
    "import numpy as np\n",
    "spacy.__version__"
   ]
  },
  {
   "cell_type": "code",
   "execution_count": 3,
   "metadata": {},
   "outputs": [],
   "source": [
    "#!python3 -m spacy download en_core_web_sm\n",
    "nlp = spacy.load('en_core_web_sm')"
   ]
  },
  {
   "cell_type": "code",
   "execution_count": 4,
   "metadata": {},
   "outputs": [
    {
     "name": "stdout",
     "output_type": "stream",
     "text": [
      "No. files in each directory:\n",
      "12501\n",
      "12501\n",
      "12500\n",
      "12500\n"
     ]
    }
   ],
   "source": [
    "# Path definitions\n",
    "train_neg = 'data/train/neg/'\n",
    "train_pos = 'data/train/pos/'\n",
    "test_neg = 'data/test/neg/'\n",
    "test_pos = 'data/test/pos/'\n",
    "\n",
    "# Verify sizes (should all be equal):\n",
    "print('No. files in each directory:')\n",
    "for d in [train_neg, train_pos, test_neg, test_pos]:\n",
    "    print(len(listdir(d)))"
   ]
  },
  {
   "cell_type": "markdown",
   "metadata": {},
   "source": [
    "### Preprocessing: removing markup language.\n",
    "Removing HTML tags using Beautiful Soup <br> (from this article: https://himanshulohiya.medium.com/cleaning-and-pre-processing-textual-data-d88036a1f4b8)"
   ]
  },
  {
   "cell_type": "code",
   "execution_count": 5,
   "metadata": {},
   "outputs": [
    {
     "data": {
      "text/plain": [
       "'With its companion piece MASTERS OF HORROR, NIGHTMARES AND DREAMSCAPES can only be seen as the absolute nadir of the genre that began so auspiciously with THE TWILIGHT ZONE and THE OUTER LIMITS.<br /><br />Of course, part of the problem is that it does nothing to be of any interest to a comparatively adult audience, instead aiming at TEN-YEAR-OLDS, who are only able to count body-bags, and scarcel'"
      ]
     },
     "execution_count": 5,
     "metadata": {},
     "output_type": "execute_result"
    }
   ],
   "source": [
    "sample = open(train_neg + listdir(train_neg)[0], 'r').read() \n",
    "sample[:400]"
   ]
  },
  {
   "cell_type": "code",
   "execution_count": 6,
   "metadata": {},
   "outputs": [
    {
     "data": {
      "text/plain": [
       "'With its companion piece MASTERS OF HORROR, NIGHTMARES AND DREAMSCAPES can only be seen as the absolute nadir of the genre that began so auspiciously with THE TWILIGHT ZONE and THE OUTER LIMITS.Of course, part of the problem is that it does nothing to be of any interest to a comparatively adult audience, instead aiming at TEN-YEAR-OLDS, who are only able to count body-bags, and scarcely that. And '"
      ]
     },
     "execution_count": 6,
     "metadata": {},
     "output_type": "execute_result"
    }
   ],
   "source": [
    "def strip_html(text):\n",
    "    soup = BeautifulSoup(text, \"html.parser\")\n",
    "    stripped_text = soup.get_text().strip()\n",
    "    return stripped_text\n",
    "\n",
    "sample = strip_html(\n",
    "    open(train_neg + listdir(train_neg)[0], 'r').read() \n",
    ")\n",
    "sample[:400]"
   ]
  },
  {
   "cell_type": "markdown",
   "metadata": {},
   "source": [
    "### Dataframe construction"
   ]
  },
  {
   "cell_type": "code",
   "execution_count": 17,
   "metadata": {},
   "outputs": [],
   "source": [
    "# Opens each file in the positive/negative paths, preprocesses with the functions above, and returns shuffled set.\n",
    "def build_list(pos_path, neg_path):\n",
    "    \n",
    "    output = []\n",
    "    \n",
    "    for path in [pos_path, neg_path]:\n",
    "        for val in listdir(path):\n",
    "            if val.endswith('.txt'):\n",
    "                file = path + val\n",
    "                file = open(file,'r').read()\n",
    "                file = strip_html(file)\n",
    "                \n",
    "                # Append prepped data w/ label = 1 for positive, label = 0 for negative\n",
    "                if path == pos_path:\n",
    "                    label = 1\n",
    "                    \n",
    "                elif path == neg_path:\n",
    "                    label = 0\n",
    "                    \n",
    "                output.append((file, label))\n",
    "    \n",
    "    # Shuffle\n",
    "    random.Random(42).shuffle(output)\n",
    "    output = pd.DataFrame(output)\n",
    "    output.columns = ['text','label']\n",
    "    return output\n",
    "        "
   ]
  },
  {
   "cell_type": "code",
   "execution_count": 21,
   "metadata": {},
   "outputs": [],
   "source": [
    "# NOTE: This takes a while to run.\n",
    "# Will build a singular 'data' DF of length 2500, [:2000] of which will later become the Train data.\n",
    "data = build_list(train_pos[:1250], train_neg[:1250])"
   ]
  },
  {
   "cell_type": "code",
   "execution_count": 23,
   "metadata": {},
   "outputs": [
    {
     "name": "stdout",
     "output_type": "stream",
     "text": [
      "(25000, 2)\n"
     ]
    },
    {
     "data": {
      "text/html": [
       "<div>\n",
       "<style scoped>\n",
       "    .dataframe tbody tr th:only-of-type {\n",
       "        vertical-align: middle;\n",
       "    }\n",
       "\n",
       "    .dataframe tbody tr th {\n",
       "        vertical-align: top;\n",
       "    }\n",
       "\n",
       "    .dataframe thead th {\n",
       "        text-align: right;\n",
       "    }\n",
       "</style>\n",
       "<table border=\"1\" class=\"dataframe\">\n",
       "  <thead>\n",
       "    <tr style=\"text-align: right;\">\n",
       "      <th></th>\n",
       "      <th>text</th>\n",
       "      <th>label</th>\n",
       "    </tr>\n",
       "  </thead>\n",
       "  <tbody>\n",
       "    <tr>\n",
       "      <th>0</th>\n",
       "      <td>I was looking for a cute, simple comedy to pas...</td>\n",
       "      <td>0</td>\n",
       "    </tr>\n",
       "    <tr>\n",
       "      <th>1</th>\n",
       "      <td>Ossessione, adapted loosely (or if it is as lo...</td>\n",
       "      <td>1</td>\n",
       "    </tr>\n",
       "    <tr>\n",
       "      <th>2</th>\n",
       "      <td>Before the regular comments, my main curiosity...</td>\n",
       "      <td>1</td>\n",
       "    </tr>\n",
       "    <tr>\n",
       "      <th>3</th>\n",
       "      <td>I feel the movie did not portray Smith histori...</td>\n",
       "      <td>0</td>\n",
       "    </tr>\n",
       "    <tr>\n",
       "      <th>4</th>\n",
       "      <td>I have to admit I have always found it difficu...</td>\n",
       "      <td>1</td>\n",
       "    </tr>\n",
       "  </tbody>\n",
       "</table>\n",
       "</div>"
      ],
      "text/plain": [
       "                                                text  label\n",
       "0  I was looking for a cute, simple comedy to pas...      0\n",
       "1  Ossessione, adapted loosely (or if it is as lo...      1\n",
       "2  Before the regular comments, my main curiosity...      1\n",
       "3  I feel the movie did not portray Smith histori...      0\n",
       "4  I have to admit I have always found it difficu...      1"
      ]
     },
     "execution_count": 23,
     "metadata": {},
     "output_type": "execute_result"
    }
   ],
   "source": [
    "print(data.shape)\n",
    "data.head()\n"
   ]
  },
  {
   "cell_type": "markdown",
   "metadata": {},
   "source": [
    "### Lematizing & removing stops & punctuation"
   ]
  },
  {
   "cell_type": "code",
   "execution_count": 25,
   "metadata": {},
   "outputs": [
    {
     "data": {
      "text/html": [
       "<div>\n",
       "<style scoped>\n",
       "    .dataframe tbody tr th:only-of-type {\n",
       "        vertical-align: middle;\n",
       "    }\n",
       "\n",
       "    .dataframe tbody tr th {\n",
       "        vertical-align: top;\n",
       "    }\n",
       "\n",
       "    .dataframe thead th {\n",
       "        text-align: right;\n",
       "    }\n",
       "</style>\n",
       "<table border=\"1\" class=\"dataframe\">\n",
       "  <thead>\n",
       "    <tr style=\"text-align: right;\">\n",
       "      <th></th>\n",
       "      <th>text</th>\n",
       "      <th>label</th>\n",
       "      <th>text_lemmatized</th>\n",
       "    </tr>\n",
       "  </thead>\n",
       "  <tbody>\n",
       "    <tr>\n",
       "      <th>0</th>\n",
       "      <td>I was looking for a cute, simple comedy to pas...</td>\n",
       "      <td>0</td>\n",
       "      <td>look cute simple comedy pass time choose film ...</td>\n",
       "    </tr>\n",
       "    <tr>\n",
       "      <th>1</th>\n",
       "      <td>Ossessione, adapted loosely (or if it is as lo...</td>\n",
       "      <td>1</td>\n",
       "      <td>Ossessione adapt loosely loose close version s...</td>\n",
       "    </tr>\n",
       "    <tr>\n",
       "      <th>2</th>\n",
       "      <td>Before the regular comments, my main curiosity...</td>\n",
       "      <td>1</td>\n",
       "      <td>regular comment main curiosity love SONG runni...</td>\n",
       "    </tr>\n",
       "    <tr>\n",
       "      <th>3</th>\n",
       "      <td>I feel the movie did not portray Smith histori...</td>\n",
       "      <td>0</td>\n",
       "      <td>feel movie portray Smith historically goal mov...</td>\n",
       "    </tr>\n",
       "    <tr>\n",
       "      <th>4</th>\n",
       "      <td>I have to admit I have always found it difficu...</td>\n",
       "      <td>1</td>\n",
       "      <td>admit find difficult watch antonioni film star...</td>\n",
       "    </tr>\n",
       "  </tbody>\n",
       "</table>\n",
       "</div>"
      ],
      "text/plain": [
       "                                                text  label  \\\n",
       "0  I was looking for a cute, simple comedy to pas...      0   \n",
       "1  Ossessione, adapted loosely (or if it is as lo...      1   \n",
       "2  Before the regular comments, my main curiosity...      1   \n",
       "3  I feel the movie did not portray Smith histori...      0   \n",
       "4  I have to admit I have always found it difficu...      1   \n",
       "\n",
       "                                     text_lemmatized  \n",
       "0  look cute simple comedy pass time choose film ...  \n",
       "1  Ossessione adapt loosely loose close version s...  \n",
       "2  regular comment main curiosity love SONG runni...  \n",
       "3  feel movie portray Smith historically goal mov...  \n",
       "4  admit find difficult watch antonioni film star...  "
      ]
     },
     "execution_count": 25,
     "metadata": {},
     "output_type": "execute_result"
    }
   ],
   "source": [
    "def punct_space(token):\n",
    "    return token.is_punct or token.is_space\n",
    "\n",
    "def lemmatize(doc):\n",
    "    parsed_doc=nlp(doc)\n",
    "    lemm_doc = [token.lemma_ for token in papreviousrsed_doc\n",
    "                      if not punct_space(token) and (token.lemma_!= '-PRON-') and not(nlp.vocab[token.text].is_stop)]\n",
    "      \n",
    "    # write the transformed text\n",
    "    clean_text = u' '.join(lemm_doc)\n",
    "    return clean_text\n",
    "\n",
    "data['text_lemmatized']=data.text.map(lemmatize)\n",
    "\n",
    "data.head()"
   ]
  },
  {
   "cell_type": "code",
   "execution_count": 26,
   "metadata": {},
   "outputs": [],
   "source": [
    "# Saving for later\n",
    "data.to_csv('data/prepped_data.csv')"
   ]
  },
  {
   "cell_type": "markdown",
   "metadata": {
    "tags": []
   },
   "source": [
    "### Model setup"
   ]
  },
  {
   "cell_type": "code",
   "execution_count": 28,
   "metadata": {},
   "outputs": [],
   "source": [
    "from sklearn.feature_extraction.text import CountVectorizer\n",
    "from sklearn.feature_extraction.text import TfidfTransformer\n",
    "from sklearn.model_selection import train_test_split"
   ]
  },
  {
   "cell_type": "code",
   "execution_count": 29,
   "metadata": {},
   "outputs": [],
   "source": [
    "X_train, X_test, y_train, y_test = train_test_split(data['text_lemmatized'], data['label'], test_size=0.4, random_state=42)"
   ]
  },
  {
   "cell_type": "code",
   "execution_count": 30,
   "metadata": {},
   "outputs": [],
   "source": [
    "# Count vectorizer setup\n",
    "\n",
    "cvec = CountVectorizer(stop_words='english', min_df=3)\n",
    "\n",
    "# we create a matrix for the training set\n",
    "cvec.fit(X_train)\n",
    "cvec_counts_train = cvec.transform(X_train)\n",
    "# we create a matrix for the test set\n",
    "cvec_counts_test=cvec.transform(X_test)"
   ]
  },
  {
   "cell_type": "code",
   "execution_count": 31,
   "metadata": {},
   "outputs": [],
   "source": [
    "# TFIDF transformer\n",
    "\n",
    "tfidf_transformer = TfidfTransformer()\n",
    "X_train_tfidf = tfidf_transformer.fit_transform(cvec_counts_train)\n",
    "X_test_tfidf = tfidf_transformer.fit_transform(cvec_counts_test)"
   ]
  },
  {
   "cell_type": "code",
   "execution_count": 32,
   "metadata": {},
   "outputs": [],
   "source": [
    "# Random forest classifier\n",
    "from sklearn.ensemble import RandomForestClassifier\n",
    "import numpy as np\n",
    "from sklearn import metrics\n",
    "\n",
    "# training\n",
    "clf = RandomForestClassifier().fit(X_train_tfidf, y_train)\n",
    "\n",
    "# testing\n",
    "predicted=clf.predict(X_test_tfidf)"
   ]
  },
  {
   "cell_type": "code",
   "execution_count": 33,
   "metadata": {},
   "outputs": [
    {
     "data": {
      "text/plain": [
       "0.8367"
      ]
     },
     "execution_count": 33,
     "metadata": {},
     "output_type": "execute_result"
    }
   ],
   "source": [
    "# Accuracy score\n",
    "metrics.accuracy_score(y_test, predicted)"
   ]
  },
  {
   "cell_type": "markdown",
   "metadata": {},
   "source": [
    "### Evaluation"
   ]
  },
  {
   "cell_type": "code",
   "execution_count": 35,
   "metadata": {},
   "outputs": [
    {
     "name": "stdout",
     "output_type": "stream",
     "text": [
      "              precision    recall  f1-score   support\n",
      "\n",
      "           0       0.83      0.85      0.84      4953\n",
      "           1       0.85      0.82      0.84      5047\n",
      "\n",
      "    accuracy                           0.84     10000\n",
      "   macro avg       0.84      0.84      0.84     10000\n",
      "weighted avg       0.84      0.84      0.84     10000\n",
      "\n"
     ]
    }
   ],
   "source": [
    "print(metrics.classification_report(y_test, predicted))"
   ]
  },
  {
   "cell_type": "markdown",
   "metadata": {},
   "source": [
    "### Testing a sample"
   ]
  },
  {
   "cell_type": "code",
   "execution_count": 46,
   "metadata": {},
   "outputs": [
    {
     "data": {
      "text/html": [
       "<div>\n",
       "<style scoped>\n",
       "    .dataframe tbody tr th:only-of-type {\n",
       "        vertical-align: middle;\n",
       "    }\n",
       "\n",
       "    .dataframe tbody tr th {\n",
       "        vertical-align: top;\n",
       "    }\n",
       "\n",
       "    .dataframe thead th {\n",
       "        text-align: right;\n",
       "    }\n",
       "</style>\n",
       "<table border=\"1\" class=\"dataframe\">\n",
       "  <thead>\n",
       "    <tr style=\"text-align: right;\">\n",
       "      <th></th>\n",
       "      <th>text</th>\n",
       "      <th>label</th>\n",
       "      <th>text_lemmatized</th>\n",
       "    </tr>\n",
       "  </thead>\n",
       "  <tbody>\n",
       "    <tr>\n",
       "      <th>3212</th>\n",
       "      <td>Fire And Ice is an animated film set in a fant...</td>\n",
       "      <td>1</td>\n",
       "      <td>Fire Ice animated film set fantasy world film ...</td>\n",
       "    </tr>\n",
       "  </tbody>\n",
       "</table>\n",
       "</div>"
      ],
      "text/plain": [
       "                                                   text  label  \\\n",
       "3212  Fire And Ice is an animated film set in a fant...      1   \n",
       "\n",
       "                                        text_lemmatized  \n",
       "3212  Fire Ice animated film set fantasy world film ...  "
      ]
     },
     "execution_count": 46,
     "metadata": {},
     "output_type": "execute_result"
    }
   ],
   "source": [
    "sample = data[data.index == 3212] # randomly selected index\n",
    "sample"
   ]
  },
  {
   "cell_type": "code",
   "execution_count": 52,
   "metadata": {},
   "outputs": [
    {
     "name": "stdout",
     "output_type": "stream",
     "text": [
      "3212    True\n",
      "Name: label, dtype: bool\n"
     ]
    }
   ],
   "source": [
    "sample_cvec = cvec.transform(sample.text_lemmatized)\n",
    "sample_tfidf = tfidf_transformer.fit_transform(sample_cvec)\n",
    "sample_pred = clf.predict(sample_tfidf)\n",
    "print(sample_pred == sample.label)"
   ]
  },
  {
   "cell_type": "code",
   "execution_count": null,
   "metadata": {},
   "outputs": [],
   "source": []
  }
 ],
 "metadata": {
  "kernelspec": {
   "display_name": "Python 3",
   "language": "python",
   "name": "python3"
  },
  "language_info": {
   "codemirror_mode": {
    "name": "ipython",
    "version": 3
   },
   "file_extension": ".py",
   "mimetype": "text/x-python",
   "name": "python",
   "nbconvert_exporter": "python",
   "pygments_lexer": "ipython3",
   "version": "3.8.8"
  }
 },
 "nbformat": 4,
 "nbformat_minor": 4
}
